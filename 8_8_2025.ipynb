{
  "nbformat": 4,
  "nbformat_minor": 0,
  "metadata": {
    "colab": {
      "provenance": [],
      "include_colab_link": true
    },
    "kernelspec": {
      "name": "python3",
      "display_name": "Python 3"
    },
    "language_info": {
      "name": "python"
    }
  },
  "cells": [
    {
      "cell_type": "markdown",
      "metadata": {
        "id": "view-in-github",
        "colab_type": "text"
      },
      "source": [
        "<a href=\"https://colab.research.google.com/github/meredith224/Code-Quiz/blob/main/8_8_2025.ipynb\" target=\"_parent\"><img src=\"https://colab.research.google.com/assets/colab-badge.svg\" alt=\"Open In Colab\"/></a>"
      ]
    },
    {
      "cell_type": "code",
      "execution_count": null,
      "metadata": {
        "colab": {
          "base_uri": "https://localhost:8080/"
        },
        "id": "3SSf8SGjZYaX",
        "outputId": "2112d991-9e2d-408b-f2f7-f3da5b013f19"
      },
      "outputs": [
        {
          "output_type": "stream",
          "name": "stdout",
          "text": [
            "✅ Sample of employee dataset:\n",
            "  employee_id department   salary  years_exp  performance\n",
            "0       E0000         HR  86306.0        6.5            3\n",
            "1       E0001  Marketing  80515.0        4.5            3\n",
            "2       E0002      Sales  86376.0        6.2            3\n",
            "3       E0003         HR  55186.0        5.0            3\n",
            "4       E0004         HR  81705.0        6.3            4\n"
          ]
        }
      ],
      "source": [
        "import pandas as pd\n",
        "import numpy as np\n",
        "\n",
        "np.random.seed(42)\n",
        "\n",
        "n = 200\n",
        "\n",
        "df = pd.DataFrame({\n",
        "    'employee_id': [f\"E{i:04d}\" for i in range(n)],\n",
        "    'department': np.random.choice(['Sales', 'Engineering', 'HR', 'Marketing'], size=n),\n",
        "    'salary': np.random.normal(loc=85000, scale=15000, size=n).round(0).clip(40000, 150000),\n",
        "    'years_exp': np.random.normal(loc=6, scale=2.5, size=n).round(1).clip(0.5, 20),\n",
        "    'performance': np.random.randint(1, 6, size=n)\n",
        "})\n",
        "\n",
        "print(\"✅ Sample of employee dataset:\")\n",
        "print(df.head())\n"
      ]
    },
    {
      "cell_type": "code",
      "source": [
        "print(\"\\n📌 df.describe() gives summary stats for all numeric columns:\")\n",
        "print(df.describe())\n"
      ],
      "metadata": {
        "colab": {
          "base_uri": "https://localhost:8080/"
        },
        "id": "pwENMSbBZgAO",
        "outputId": "022666b3-b77b-4a3f-a522-d582fd049ee2"
      },
      "execution_count": null,
      "outputs": [
        {
          "output_type": "stream",
          "name": "stdout",
          "text": [
            "\n",
            "📌 df.describe() gives summary stats for all numeric columns:\n",
            "              salary   years_exp  performance\n",
            "count     200.000000  200.000000   200.000000\n",
            "mean    85286.545000    6.091000     3.015000\n",
            "std     15048.355517    2.355517     1.408793\n",
            "min     40000.000000    0.500000     1.000000\n",
            "25%     74213.750000    4.500000     2.000000\n",
            "50%     85996.000000    6.050000     3.000000\n",
            "75%     94416.000000    7.700000     4.000000\n",
            "max    142791.000000   11.500000     5.000000\n"
          ]
        }
      ]
    },
    {
      "cell_type": "code",
      "source": [
        "print(\"\\n🎯 What salary is at the 90th percentile? So the point where only 10% of employees earn more than that — it shows top earners.\")\n",
        "print(df['years_exp'].quantile(0.25))\n"
      ],
      "metadata": {
        "colab": {
          "base_uri": "https://localhost:8080/"
        },
        "id": "0bDjKCWkZikv",
        "outputId": "bdf09a56-7552-47b3-b02d-1155b6d7a0e4"
      },
      "execution_count": null,
      "outputs": [
        {
          "output_type": "stream",
          "name": "stdout",
          "text": [
            "\n",
            "🎯 What salary is at the 90th percentile? So the point where only 10% of employees earn more than that — it shows top earners.\n",
            "4.5\n"
          ]
        }
      ]
    },
    {
      "cell_type": "code",
      "source": [
        "df['salary_range'] = pd.cut(\n",
        "    df['salary'],\n",
        "    bins=[0, 60000, 80000, 100000, 150000],\n",
        "    labels=['low', 'mid', 'high', 'very high']\n",
        ")\n",
        "\n",
        "print(\"\\n📊 Salary buckets using pd.cut():\")\n",
        "print(df[['salary', 'salary_range']])\n"
      ],
      "metadata": {
        "colab": {
          "base_uri": "https://localhost:8080/"
        },
        "id": "tj7c6bE7ZxJE",
        "outputId": "57c70171-4f1a-499a-d337-c7724953142e"
      },
      "execution_count": null,
      "outputs": [
        {
          "output_type": "stream",
          "name": "stdout",
          "text": [
            "\n",
            "📊 Salary buckets using pd.cut():\n",
            "       salary salary_range\n",
            "0     86306.0         high\n",
            "1     80515.0         high\n",
            "2     86376.0         high\n",
            "3     55186.0          low\n",
            "4     81705.0         high\n",
            "..        ...          ...\n",
            "195   63462.0          mid\n",
            "196  102447.0    very high\n",
            "197   85153.0         high\n",
            "198   70277.0          mid\n",
            "199   91932.0         high\n",
            "\n",
            "[200 rows x 2 columns]\n"
          ]
        }
      ]
    },
    {
      "cell_type": "code",
      "source": [
        "df['exp_quantile'] = pd.qcut(df['years_exp'], q=4, labels=['Q1', 'Q2', 'Q3', 'Q4'])\n",
        "\n",
        "print(\"\\n📊 Experience quartiles using pd.qcut():\")\n",
        "print(df[['years_exp', 'exp_quantile']].head())\n"
      ],
      "metadata": {
        "colab": {
          "base_uri": "https://localhost:8080/"
        },
        "id": "XsYGksVcZ0g_",
        "outputId": "a00f5572-38e6-4bbb-c5f8-1617a8c82c28"
      },
      "execution_count": null,
      "outputs": [
        {
          "output_type": "stream",
          "name": "stdout",
          "text": [
            "\n",
            "📊 Experience quartiles using pd.qcut():\n",
            "   years_exp exp_quantile\n",
            "0        6.5           Q3\n",
            "1        4.5           Q1\n",
            "2        6.2           Q3\n",
            "3        5.0           Q2\n",
            "4        6.3           Q3\n"
          ]
        }
      ]
    },
    {
      "cell_type": "code",
      "source": [
        "print(\"\\n📊 How many employees in each performance rating?\")\n",
        "print(df['performance'].value_counts())\n"
      ],
      "metadata": {
        "colab": {
          "base_uri": "https://localhost:8080/"
        },
        "id": "IExrGtJ5Z4ST",
        "outputId": "e293bcb9-24c4-4cee-adda-da0977426b14"
      },
      "execution_count": null,
      "outputs": [
        {
          "output_type": "stream",
          "name": "stdout",
          "text": [
            "\n",
            "📊 How many employees in each performance rating?\n",
            "performance\n",
            "3    45\n",
            "5    40\n",
            "1    40\n",
            "4    39\n",
            "2    36\n",
            "Name: count, dtype: int64\n"
          ]
        }
      ]
    },
    {
      "cell_type": "code",
      "source": [
        "# ----------------------\n",
        "# .rank(): Ranking each value\n",
        "# ----------------------\n",
        "# Assigns rank to each value (1 = highest/lower depending on ascending)\n",
        "# method='dense': no gaps in ranks when there are ties\n",
        "df['salary_rank'] = df['salary'].rank(method='dense', ascending=False)\n",
        "print(\"\\nSalary rank (1 = highest):\")\n",
        "print(df[['employee_id', 'salary', 'salary_rank']])"
      ],
      "metadata": {
        "colab": {
          "base_uri": "https://localhost:8080/"
        },
        "id": "cfpP3zD4Z6Qf",
        "outputId": "960f5dd8-f63e-4fd4-9fa1-b4a2e6b9e926"
      },
      "execution_count": null,
      "outputs": [
        {
          "output_type": "stream",
          "name": "stdout",
          "text": [
            "\n",
            "Salary rank (1 = highest):\n",
            "    employee_id    salary  salary_rank\n",
            "0         E0000   86306.0         97.0\n",
            "1         E0001   80515.0        123.0\n",
            "2         E0002   86376.0         96.0\n",
            "3         E0003   55186.0        197.0\n",
            "4         E0004   81705.0        116.0\n",
            "..          ...       ...          ...\n",
            "195       E0195   63462.0        188.0\n",
            "196       E0196  102447.0         20.0\n",
            "197       E0197   85153.0        105.0\n",
            "198       E0198   70277.0        168.0\n",
            "199       E0199   91932.0         64.0\n",
            "\n",
            "[200 rows x 3 columns]\n"
          ]
        }
      ]
    },
    {
      "cell_type": "code",
      "source": [
        "# ----------------------\n",
        "# .mode(): Most frequent value\n",
        "# ----------------------\n",
        "# Useful for categorical columns to find most common entry\n",
        "print(\"\\nMost common department:\")\n",
        "print(df['department'].mode())"
      ],
      "metadata": {
        "colab": {
          "base_uri": "https://localhost:8080/"
        },
        "id": "8gfj2tQ3aROI",
        "outputId": "8e822123-953f-4526-b2d0-7fc7040f03f2"
      },
      "execution_count": null,
      "outputs": [
        {
          "output_type": "stream",
          "name": "stdout",
          "text": [
            "\n",
            "Most common department:\n",
            "0           HR\n",
            "1    Marketing\n",
            "Name: department, dtype: object\n"
          ]
        }
      ]
    },
    {
      "cell_type": "code",
      "source": [
        "# ----------------------\n",
        "# .corr(): Correlation matrix\n",
        "# ----------------------\n",
        "# Shows linear relationship between numeric columns\n",
        "print(\"\\nCorrelation matrix:\")\n",
        "print(df.corr(numeric_only=True))"
      ],
      "metadata": {
        "colab": {
          "base_uri": "https://localhost:8080/"
        },
        "id": "E4JaU1M3apKD",
        "outputId": "8a0fe8e0-6f25-48c2-a47c-a66b520db5d7"
      },
      "execution_count": null,
      "outputs": [
        {
          "output_type": "stream",
          "name": "stdout",
          "text": [
            "\n",
            "Correlation matrix:\n",
            "               salary  years_exp  performance  salary_rank\n",
            "salary       1.000000  -0.017376     0.026226    -0.964181\n",
            "years_exp   -0.017376   1.000000    -0.095057     0.051878\n",
            "performance  0.026226  -0.095057     1.000000    -0.041066\n",
            "salary_rank -0.964181   0.051878    -0.041066     1.000000\n"
          ]
        }
      ]
    },
    {
      "cell_type": "code",
      "source": [
        "# ----------------------\n",
        "# .std(), .var(): Spread of the data\n",
        "# ----------------------\n",
        "# Standard deviation and variance of salary\n",
        "print(\"\\nSalary spread:\")\n",
        "print(\"Standard deviation:\", df['salary'].std())\n",
        "print(\"Variance:\", df['salary'].var())"
      ],
      "metadata": {
        "colab": {
          "base_uri": "https://localhost:8080/"
        },
        "id": "s-RD-axJaqjz",
        "outputId": "c0cd22b9-d110-4057-f911-a8a577ed8ae1"
      },
      "execution_count": null,
      "outputs": [
        {
          "output_type": "stream",
          "name": "stdout",
          "text": [
            "\n",
            "Salary spread:\n",
            "Standard deviation: 15048.355516692145\n",
            "Variance: 226453003.75675893\n"
          ]
        }
      ]
    },
    {
      "cell_type": "code",
      "source": [
        "# ----------------------\n",
        "# .nlargest(): Top N values\n",
        "# ----------------------\n",
        "print(\"\\nTop 5 salaries:\")\n",
        "print(df.nlargest(5, 'salary')[['employee_id', 'salary']])\n"
      ],
      "metadata": {
        "colab": {
          "base_uri": "https://localhost:8080/"
        },
        "id": "7J6fvU1KaujO",
        "outputId": "52602962-7af1-45e8-bed1-e606dedc3c6f"
      },
      "execution_count": null,
      "outputs": [
        {
          "output_type": "stream",
          "name": "stdout",
          "text": [
            "\n",
            "Top 5 salaries:\n",
            "    employee_id    salary\n",
            "133       E0133  142791.0\n",
            "103       E0103  125803.0\n",
            "37        E0037  121949.0\n",
            "144       E0144  119720.0\n",
            "49        E0049  117857.0\n"
          ]
        }
      ]
    },
    {
      "cell_type": "code",
      "source": [
        "df = dim_titles_roku_python.loc[:, ['release_year', 'title_name', 'age_certification', 'imdb_score']]\n",
        "df['score'] = df.groupby(['release_year', 'title_name'])['imdb_score'].transform('mean')\n",
        "\n",
        "df = df[df['release_year'] > 1950]\n",
        "\n",
        "df['decade'] = pd.cut(df['release_year'], bins=[1950, 1960, 1970, 1980, 1990, 2000, 2010, 2020, 2025], labels=['[1950-1960)', '[1960-1970)', '[1970-1980)', '[1980-1990)', '[1990-2000)', '[2000-2010)', '[2010-2020)', '[2020+)'])\n",
        "\n",
        "\n",
        "most_popular = df.groupby(['decade'])['score'].idxmax()\n",
        "\n",
        "\n",
        "result = df.loc[most_popular]\n",
        "\n",
        "# ## fails here\n",
        "# result = result[['decade', 'title_name', 'age_certification', 'production_countries', 'score']]\n",
        "\n",
        "print(result)"
      ],
      "metadata": {
        "id": "80re4JE6m33I"
      },
      "execution_count": null,
      "outputs": []
    }
  ]
}