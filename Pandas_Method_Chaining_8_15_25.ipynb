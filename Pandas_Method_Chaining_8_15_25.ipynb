{
  "nbformat": 4,
  "nbformat_minor": 0,
  "metadata": {
    "colab": {
      "provenance": [],
      "include_colab_link": true
    },
    "kernelspec": {
      "name": "python3",
      "display_name": "Python 3"
    },
    "language_info": {
      "name": "python"
    }
  },
  "cells": [
    {
      "cell_type": "markdown",
      "metadata": {
        "id": "view-in-github",
        "colab_type": "text"
      },
      "source": [
        "<a href=\"https://colab.research.google.com/github/meredith224/Code-Quiz/blob/main/Pandas_Method_Chaining_8_15_25.ipynb\" target=\"_parent\"><img src=\"https://colab.research.google.com/assets/colab-badge.svg\" alt=\"Open In Colab\"/></a>"
      ]
    },
    {
      "cell_type": "code",
      "execution_count": null,
      "metadata": {
        "colab": {
          "base_uri": "https://localhost:8080/"
        },
        "id": "P-cjf4hbis3t",
        "outputId": "a41645ad-445f-4d99-842b-1e0340268728"
      },
      "outputs": [
        {
          "output_type": "stream",
          "name": "stdout",
          "text": [
            "✅ Sample of dataset:\n",
            "  student_id       major   GPA  credits_completed  enrolled_full_time\n",
            "0       S000  Psychology  3.30                119               False\n",
            "1       S001     History  3.07                 89                True\n",
            "2       S002     Biology  2.95                 31                True\n",
            "3       S003  Psychology  2.88                 30                True\n",
            "4       S004  Psychology  2.41                 77                True\n"
          ]
        }
      ],
      "source": [
        "import pandas as pd\n",
        "import numpy as np\n",
        "\n",
        "np.random.seed(42)\n",
        "\n",
        "n = 100\n",
        "\n",
        "df = pd.DataFrame({\n",
        "    'student_id': [f\"S{i:03d}\" for i in range(n)],\n",
        "    'major': np.random.choice(['Biology', 'Engineering', 'Psychology', 'History'], size=n),\n",
        "    'GPA': np.round(np.random.normal(3.0, 0.4, size=n), 2).clip(0, 4),\n",
        "    'credits_completed': np.random.randint(30, 140, size=n),\n",
        "    'enrolled_full_time': np.random.choice([True, False], size=n, p=[0.7, 0.3])\n",
        "})\n",
        "\n",
        "print(\"✅ Sample of dataset:\")\n",
        "print(df.head())"
      ]
    },
    {
      "cell_type": "code",
      "source": [
        "# Objective: Get top 5 full-time Engineering students by GPA\n",
        "#            who have completed at least 80 credits, and show selected columns only\n",
        "\n",
        "print(\"\\n🔗 Top 5 full-time Engineering students (credits >= 80) by GPA:\")\n",
        "\n",
        "(\n",
        "    df\n",
        "    .query(\"major == 'Engineering' and enrolled_full_time == True\")  # filter\n",
        "    .loc[lambda d: d['credits_completed'] >= 80]                      # additional filter\n",
        "    .sort_values('GPA', ascending=False)                              # sort\n",
        "    .head(5)                                                          # top 5\n",
        "    .loc[:, ['student_id', 'GPA', 'credits_completed']]               # select columns\n",
        "    .pipe(print)                                                      # show result\n",
        ")\n"
      ],
      "metadata": {
        "colab": {
          "base_uri": "https://localhost:8080/"
        },
        "id": "fmbzqeVUjBXO",
        "outputId": "a5889288-e701-43fd-b3b5-6dbc6c86c4d0"
      },
      "execution_count": null,
      "outputs": [
        {
          "output_type": "stream",
          "name": "stdout",
          "text": [
            "\n",
            "🔗 Top 5 full-time Engineering students (credits >= 80) by GPA:\n",
            "   student_id   GPA  credits_completed\n",
            "33       S033  3.63                139\n",
            "95       S095  3.62                122\n",
            "25       S025  3.54                133\n",
            "27       S027  3.40                128\n",
            "65       S065  3.16                 83\n"
          ]
        }
      ]
    },
    {
      "cell_type": "code",
      "source": [
        "print(\"\\n📊 Average GPA by major (full-time students only):\")\n",
        "(\n",
        "    df\n",
        "    .query(\"enrolled_full_time == True\")\n",
        "    .groupby('major')['GPA']\n",
        "    .mean()\n",
        "    .sort_values(ascending=False)\n",
        "    .round(2)\n",
        "    .pipe(print)\n",
        ")\n"
      ],
      "metadata": {
        "id": "JSAkL7pkjRRZ"
      },
      "execution_count": null,
      "outputs": []
    },
    {
      "cell_type": "code",
      "source": [
        "print(\"\\n🏅 High performers (GPA >= 3.5) count by major:\")\n",
        "(\n",
        "    df\n",
        "    .loc[lambda d: d['GPA'] >= 3.5]\n",
        "    .groupby('major')\n",
        "    .size()\n",
        "    .sort_values(ascending=False)\n",
        "    .pipe(print)\n",
        ")"
      ],
      "metadata": {
        "id": "jjCWzn6UjRyK"
      },
      "execution_count": null,
      "outputs": []
    },
    {
      "cell_type": "code",
      "source": [
        "print(\"\\n📈 Percent of full-time students per major:\")\n",
        "(\n",
        "    df\n",
        "    .groupby('major')['enrolled_full_time']\n",
        "    .mean()\n",
        "    .mul(100)\n",
        "    .round(1)\n",
        "    .sort_values(ascending=False)\n",
        "    .pipe(print)\n",
        ")"
      ],
      "metadata": {
        "colab": {
          "base_uri": "https://localhost:8080/"
        },
        "id": "tyr7b66djgO7",
        "outputId": "6a25a0b9-9dc2-465e-e14b-e3ce1366f1cd"
      },
      "execution_count": null,
      "outputs": [
        {
          "output_type": "stream",
          "name": "stdout",
          "text": [
            "\n",
            "📈 Percent of full-time students per major:\n",
            "major\n",
            "Biology        85.0\n",
            "History        80.0\n",
            "Engineering    76.9\n",
            "Psychology     66.7\n",
            "Name: enrolled_full_time, dtype: float64\n"
          ]
        }
      ]
    },
    {
      "cell_type": "code",
      "source": [
        "print(\"\\n🎯 Average credits completed by GPA brackets:\")\n",
        "df['GPA_bracket'] = pd.cut(df['GPA'], bins=[0, 2.5, 3.0, 3.5, 4.0], labels=['Low', 'Average', 'Good', 'Excellent'])\n",
        "(\n",
        "    df\n",
        "    .groupby('GPA_bracket')['credits_completed']\n",
        "    .mean()\n",
        "    .round(1)\n",
        "    .pipe(print)\n",
        ")"
      ],
      "metadata": {
        "id": "P_dX5UaajjXp"
      },
      "execution_count": null,
      "outputs": []
    }
  ]
}